{
 "cells": [
  {
   "cell_type": "markdown",
   "metadata": {},
   "source": [
    "# EDA for Big Data Derby Competition"
   ]
  },
  {
   "cell_type": "markdown",
   "metadata": {},
   "source": [
    "### Creating paths to diferent folders"
   ]
  },
  {
   "cell_type": "code",
   "execution_count": null,
   "metadata": {},
   "outputs": [],
   "source": [
    "import os\n",
    "from pathlib import Path\n",
    "\n",
    "# Get current work directory of file (Notebook dir)\n",
    "NOTEBOOK_DIR=Path(os.path.abspath(os.getcwd()))\n",
    "# Root path of repo\n",
    "WORK_DIR=NOTEBOOK_DIR.parent.parent\n",
    "# Path to Datasets\n",
    "DATA_DIR=WORK_DIR / 'data'\n",
    "\n",
    "# Noob printing to check if I did this shit right\n",
    "print(\"Notebook dir: \", NOTEBOOK_DIR)\n",
    "print(\"Repo dir: \", WORK_DIR)\n",
    "print(\"Data dir: \", DATA_DIR)"
   ]
  },
  {
   "cell_type": "markdown",
   "metadata": {},
   "source": [
    "### Loading csv into dataframes"
   ]
  },
  {
   "cell_type": "code",
   "execution_count": null,
   "metadata": {},
   "outputs": [],
   "source": [
    "import pandas as pd\n",
    "pd.plotting.register_matplotlib_converters()\n",
    "import matplotlib.pyplot as plt\n",
    "import seaborn as sns\n",
    "\n",
    "# horse_data = pd.read_csv(DATA_DIR / 'horse_ids.csv', index_col=0)\n"
   ]
  },
  {
   "cell_type": "markdown",
   "metadata": {},
   "source": [
    "#### Loader functions"
   ]
  },
  {
   "cell_type": "code",
   "execution_count": null,
   "metadata": {},
   "outputs": [],
   "source": [
    "def load_data():\n",
    "    complete_data_headers = ['track_id','race_date','race_number','program_number','trakus_index','latitude','longitude','distance_id',\n",
    "    'course_type','track_condition','run_up_distance','race_type','purse','post_time','weight_carried','jockey','odds','position_at_finish']\n",
    "    complete_data= pd.read_csv(DATA_DIR / 'nyra_2019_complete.csv', names=complete_data_headers)\n",
    "\n",
    "    loaded = complete_data.drop(['trakus_index','latitude','longitude','purse','post_time'], axis = 1)\n",
    "    loaded = loaded.groupby(['race_date','race_number','program_number']).max()\n",
    "\n",
    "    return loaded"
   ]
  },
  {
   "cell_type": "code",
   "execution_count": null,
   "metadata": {},
   "outputs": [],
   "source": [
    "# Adds coordinate list to each horse in each race in the dataframe\n",
    "# TODO Could be improved to have a different I/O dataframe but didn't think it was needed\n",
    "\n",
    "def add_coordinates(ref_df):\n",
    "    \n",
    "    tracking_df = pd.read_csv(DATA_DIR / 'nyra_tracking_table.csv')\n",
    "    \n",
    "    # Check if a 'coordinates' column already exists, if not, add it.\n",
    "    if 'coordinates' not in ref_df:\n",
    "        ref_df.insert(2, column='coordinates',value=\"\")\n",
    "        ref_df['coordinates'] = ref_df['coordinates'].astype('object')\n",
    "\n",
    "    # Iterate through dataframe passed to function. Limited to 50 first rows.\n",
    "    for index, row in ref_df.head(50).iterrows():\n",
    "\n",
    "        # Sample to access Trakus data from our tracking reference table\n",
    "        # where index[0] equals Race Date, index[1] equals Race Number and index[2] equals each horse/jockey in the race\n",
    "        sample = tracking_df[\n",
    "            (tracking_df.race_date == index[0])\n",
    "            & (tracking_df.race_number == index[1])\n",
    "            & (tracking_df.program_number == str(index[2]).ljust(3))\n",
    "            ]\n",
    "\n",
    "        # List variable to store our coordinate tuples for each index, in order\n",
    "        coordinates = []\n",
    "\n",
    "        # Iterate each row in our sample, ordered by index value,\n",
    "        # and store latitude and longitude in a tuple, adding it at the end of our list\n",
    "        # TODO add the index value to tuple if needed\n",
    "        for idx, rw in sample.sort_values('trakus_index').iterrows():\n",
    "            tuple = (rw.latitude, rw.longitude)\n",
    "            coordinates.append(tuple)\n",
    "\n",
    "\n",
    "        # Adding coordinate list to each row in df\n",
    "        ref_df.at[(index[0],\n",
    "            index[1],\n",
    "            index[2]),\n",
    "            'coordinates'] = coordinates\n",
    "\n",
    "    return\n"
   ]
  },
  {
   "cell_type": "markdown",
   "metadata": {},
   "source": [
    "#### Other functions"
   ]
  },
  {
   "cell_type": "code",
   "execution_count": null,
   "metadata": {},
   "outputs": [],
   "source": []
  },
  {
   "cell_type": "markdown",
   "metadata": {},
   "source": [
    "## Creating new dataframes"
   ]
  },
  {
   "cell_type": "code",
   "execution_count": null,
   "metadata": {},
   "outputs": [],
   "source": [
    "# New dataframe filled only with info related to race and results.\n",
    "\n",
    "results_df = load_data()\n",
    "\n",
    "results_df.head(5)"
   ]
  },
  {
   "cell_type": "markdown",
   "metadata": {},
   "source": [
    "## Manipulating dataframes"
   ]
  },
  {
   "cell_type": "code",
   "execution_count": null,
   "metadata": {},
   "outputs": [],
   "source": [
    "# Add coordinates to df as list of tuples\n",
    "\n",
    "add_coordinates(results_df)\n",
    "\n",
    "results_df.head(5)"
   ]
  },
  {
   "cell_type": "markdown",
   "metadata": {},
   "source": [
    "## W/E"
   ]
  },
  {
   "cell_type": "code",
   "execution_count": null,
   "metadata": {},
   "outputs": [],
   "source": [
    "results_df.loc['2019-01-01':'2019-01-31']"
   ]
  },
  {
   "cell_type": "code",
   "execution_count": null,
   "metadata": {},
   "outputs": [],
   "source": [
    "for index, number in results_df.loc['2019-01-01'].iterrows():\n",
    "    print(number.jockey + ' finished ' + str(number.position_at_finish) + ' during race number ' + str(index[0]))\n",
    "    "
   ]
  },
  {
   "cell_type": "code",
   "execution_count": null,
   "metadata": {},
   "outputs": [],
   "source": [
    "results_df.loc['2019-12-31', 8]"
   ]
  },
  {
   "cell_type": "code",
   "execution_count": null,
   "metadata": {},
   "outputs": [],
   "source": [
    "results_df.jockey.describe()"
   ]
  },
  {
   "cell_type": "code",
   "execution_count": null,
   "metadata": {},
   "outputs": [],
   "source": [
    "results_df.loc[results_df.position_at_finish == 3].jockey.describe()"
   ]
  },
  {
   "cell_type": "code",
   "execution_count": null,
   "metadata": {},
   "outputs": [],
   "source": [
    "results_df.loc[results_df.position_at_finish == 3].jockey.value_counts()"
   ]
  }
 ],
 "metadata": {
  "kernelspec": {
   "display_name": "Python 3.9.12 ('base')",
   "language": "python",
   "name": "python3"
  },
  "language_info": {
   "codemirror_mode": {
    "name": "ipython",
    "version": 3
   },
   "file_extension": ".py",
   "mimetype": "text/x-python",
   "name": "python",
   "nbconvert_exporter": "python",
   "pygments_lexer": "ipython3",
   "version": "3.9.12"
  },
  "orig_nbformat": 4,
  "vscode": {
   "interpreter": {
    "hash": "011b87e73b3907896cc407b0bc85a22924f25a94c848a3ebd383111714fc947d"
   }
  }
 },
 "nbformat": 4,
 "nbformat_minor": 2
}
