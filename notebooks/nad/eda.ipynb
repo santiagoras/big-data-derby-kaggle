{
 "cells": [
  {
   "cell_type": "markdown",
   "metadata": {},
   "source": [
    "# EDA for Big Data Derby Competition"
   ]
  },
  {
   "cell_type": "markdown",
   "metadata": {},
   "source": [
    "### Creating paths to diferent folders"
   ]
  },
  {
   "cell_type": "code",
   "execution_count": 2,
   "metadata": {},
   "outputs": [
    {
     "name": "stdout",
     "output_type": "stream",
     "text": [
      "Notebook dir:  r:\\kaggle\\big-data-derby-kaggle\\notebooks\\nad\n",
      "Repo dir:  r:\\kaggle\\big-data-derby-kaggle\n",
      "Data dir:  r:\\kaggle\\big-data-derby-kaggle\\data\n"
     ]
    }
   ],
   "source": [
    "import os\n",
    "from pathlib import Path\n",
    "\n",
    "# Get current work directory of file (Notebook dir)\n",
    "NOTEBOOK_DIR=Path(os.path.abspath(os.getcwd()))\n",
    "# Root path of repo\n",
    "WORK_DIR=NOTEBOOK_DIR.parent.parent\n",
    "# Path to Datasets\n",
    "DATA_DIR=WORK_DIR / 'data'\n",
    "\n",
    "# Noob printing to check if I did this shit right\n",
    "print(\"Notebook dir: \", NOTEBOOK_DIR)\n",
    "print(\"Repo dir: \", WORK_DIR)\n",
    "print(\"Data dir: \", DATA_DIR)"
   ]
  },
  {
   "cell_type": "markdown",
   "metadata": {},
   "source": [
    "### Loading csv into dataframes"
   ]
  },
  {
   "cell_type": "code",
   "execution_count": 3,
   "metadata": {},
   "outputs": [
    {
     "name": "stderr",
     "output_type": "stream",
     "text": [
      "C:\\Users\\santi\\AppData\\Local\\Temp\\ipykernel_15872\\1551770837.py:3: DtypeWarning: Columns (3) have mixed types. Specify dtype option on import or set low_memory=False.\n",
      "  complete_data= pd.read_csv(DATA_DIR / 'nyra_2019_complete.csv')\n"
     ]
    }
   ],
   "source": [
    "import pandas as pd\n",
    "pd.plotting.register_matplotlib_converters()\n",
    "import matplotlib.pyplot as plt\n",
    "import seaborn as sns\n",
    "\n",
    "complete_data= pd.read_csv(DATA_DIR / 'nyra_2019_complete.csv', names=['track_id','race_date','race_number','program_number','trakus_index','latitude','longitude','distance_id','course_type','track_condition','run_up_distance','race_type','purse','post_time','weight_carried','jockey','odds','position_at_finish'])\n",
    "print(complete_data.head())\n",
    "print(complete_data.dtypes)"
   ]
  },
  {
   "cell_type": "markdown",
   "metadata": {},
   "source": []
  },
  {
   "cell_type": "code",
   "execution_count": 5,
   "metadata": {},
   "outputs": [
    {
     "name": "stdout",
     "output_type": "stream",
     "text": [
      "(5228429, 18)\n",
      "   AQU  2019-01-01  9  6    72  40.6729017197787  -73.8276065972899  600  D  \\\n",
      "0  AQU  2019-01-01  9  6    73         40.672946         -73.827587  600  D   \n",
      "1  AQU  2019-01-01  9  6    74         40.672990         -73.827568  600  D   \n",
      "2  AQU  2019-01-01  9  6    63         40.672510         -73.827781  600  D   \n",
      "3  AQU  2019-01-01  9  6    64         40.672553         -73.827762  600  D   \n",
      "4  AQU  2019-01-01  9  6    65         40.672596         -73.827742  600  D   \n",
      "\n",
      "   GD   48  CLM  25000.00  00420  120  Andre Shivnarine Worrie  2090  8  \n",
      "0  GD   48  CLM   25000.0    420  120  Andre Shivnarine Worrie  2090  8  \n",
      "1  GD   48  CLM   25000.0    420  120  Andre Shivnarine Worrie  2090  8  \n",
      "2  GD   48  CLM   25000.0    420  120  Andre Shivnarine Worrie  2090  8  \n",
      "3  GD   48  CLM   25000.0    420  120  Andre Shivnarine Worrie  2090  8  \n",
      "4  GD   48  CLM   25000.0    420  120  Andre Shivnarine Worrie  2090  8  \n"
     ]
    }
   ],
   "source": []
  }
 ],
 "metadata": {
  "kernelspec": {
   "display_name": "Python 3.10.6 64-bit (windows store)",
   "language": "python",
   "name": "python3"
  },
  "language_info": {
   "codemirror_mode": {
    "name": "ipython",
    "version": 3
   },
   "file_extension": ".py",
   "mimetype": "text/x-python",
   "name": "python",
   "nbconvert_exporter": "python",
   "pygments_lexer": "ipython3",
   "version": "3.10.7"
  },
  "orig_nbformat": 4,
  "vscode": {
   "interpreter": {
    "hash": "e9265a22922cf29a7916131f3def5e811c3f0863f796f834e6c61767dd663e75"
   }
  }
 },
 "nbformat": 4,
 "nbformat_minor": 2
}
