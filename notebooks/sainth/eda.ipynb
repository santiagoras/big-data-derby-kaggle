{
 "cells": [
  {
   "cell_type": "markdown",
   "metadata": {},
   "source": [
    "# EDA for Big Data Derby Competition"
   ]
  },
  {
   "cell_type": "markdown",
   "metadata": {},
   "source": [
    "### Creating paths to diferent folders"
   ]
  },
  {
   "cell_type": "code",
   "execution_count": 2,
   "metadata": {},
   "outputs": [
    {
     "name": "stdout",
     "output_type": "stream",
     "text": [
      "Notebook dir:  r:\\kaggle\\big-data-derby-kaggle\\notebooks\\sainth\n",
      "Repo dir:  r:\\kaggle\\big-data-derby-kaggle\n",
      "Data dir:  r:\\kaggle\\big-data-derby-kaggle\\data\n"
     ]
    }
   ],
   "source": [
    "import os\n",
    "from pathlib import Path\n",
    "\n",
    "# Get current work directory of file (Notebook dir)\n",
    "NOTEBOOK_DIR=Path(os.path.abspath(os.getcwd()))\n",
    "# Root path of repo\n",
    "WORK_DIR=NOTEBOOK_DIR.parent.parent\n",
    "# Path to Datasets\n",
    "DATA_DIR=WORK_DIR / 'data'\n",
    "\n",
    "# Noob printing to check if I did this shit right\n",
    "print(\"Notebook dir: \", NOTEBOOK_DIR)\n",
    "print(\"Repo dir: \", WORK_DIR)\n",
    "print(\"Data dir: \", DATA_DIR)"
   ]
  },
  {
   "cell_type": "markdown",
   "metadata": {},
   "source": [
    "### Loading csv into dataframes"
   ]
  },
  {
   "cell_type": "code",
   "execution_count": 3,
   "metadata": {},
   "outputs": [
    {
     "name": "stderr",
     "output_type": "stream",
     "text": [
      "C:\\Users\\santi\\AppData\\Local\\Temp\\ipykernel_11972\\876585557.py:3: DtypeWarning: Columns (3) have mixed types. Specify dtype option on import or set low_memory=False.\n",
      "  complete_data= pd.read_csv(DATA_DIR / 'nyra_2019_complete.csv', names=['track_id','race_date','race_number','program_number','trakus_index','latitude','longitude','distance_id','course_type','track_condition','run_up_distance','race_type','purse','post_time','weight_carried','jockey','odds','position_at_finish'])\n"
     ]
    },
    {
     "name": "stdout",
     "output_type": "stream",
     "text": [
      "  track_id   race_date  race_number program_number  trakus_index   latitude  \\\n",
      "0      AQU  2019-01-01            9            6              72  40.672902   \n",
      "1      AQU  2019-01-01            9            6              73  40.672946   \n",
      "2      AQU  2019-01-01            9            6              74  40.672990   \n",
      "3      AQU  2019-01-01            9            6              63  40.672510   \n",
      "4      AQU  2019-01-01            9            6              64  40.672553   \n",
      "\n",
      "   longitude  distance_id course_type track_condition  run_up_distance  \\\n",
      "0 -73.827607          600           D             GD                48   \n",
      "1 -73.827587          600           D             GD                48   \n",
      "2 -73.827568          600           D             GD                48   \n",
      "3 -73.827781          600           D             GD                48   \n",
      "4 -73.827762          600           D             GD                48   \n",
      "\n",
      "  race_type    purse  post_time  weight_carried                   jockey  \\\n",
      "0       CLM  25000.0        420             120  Andre Shivnarine Worrie   \n",
      "1       CLM  25000.0        420             120  Andre Shivnarine Worrie   \n",
      "2       CLM  25000.0        420             120  Andre Shivnarine Worrie   \n",
      "3       CLM  25000.0        420             120  Andre Shivnarine Worrie   \n",
      "4       CLM  25000.0        420             120  Andre Shivnarine Worrie   \n",
      "\n",
      "   odds  position_at_finish  \n",
      "0  2090                   8  \n",
      "1  2090                   8  \n",
      "2  2090                   8  \n",
      "3  2090                   8  \n",
      "4  2090                   8  \n",
      "track_id               object\n",
      "race_date              object\n",
      "race_number             int64\n",
      "program_number         object\n",
      "trakus_index            int64\n",
      "latitude              float64\n",
      "longitude             float64\n",
      "distance_id             int64\n",
      "course_type            object\n",
      "track_condition        object\n",
      "run_up_distance         int64\n",
      "race_type              object\n",
      "purse                 float64\n",
      "post_time               int64\n",
      "weight_carried          int64\n",
      "jockey                 object\n",
      "odds                    int64\n",
      "position_at_finish      int64\n",
      "dtype: object\n"
     ]
    }
   ],
   "source": [
    "import pandas as pd\n",
    "pd.plotting.register_matplotlib_converters()\n",
    "import matplotlib.pyplot as plt\n",
    "import seaborn as sns\n",
    "\n",
    "complete_data= pd.read_csv(DATA_DIR / 'nyra_2019_complete.csv', names=['track_id','race_date','race_number','program_number','trakus_index','latitude','longitude','distance_id','course_type','track_condition','run_up_distance','race_type','purse','post_time','weight_carried','jockey','odds','position_at_finish'])\n",
    "print(complete_data.head())\n",
    "print(complete_data.dtypes)"
   ]
  },
  {
   "cell_type": "code",
   "execution_count": null,
   "metadata": {},
   "outputs": [],
   "source": []
  }
 ],
 "metadata": {
  "kernelspec": {
   "display_name": "Python 3.10.6 64-bit (windows store)",
   "language": "python",
   "name": "python3"
  },
  "language_info": {
   "codemirror_mode": {
    "name": "ipython",
    "version": 3
   },
   "file_extension": ".py",
   "mimetype": "text/x-python",
   "name": "python",
   "nbconvert_exporter": "python",
   "pygments_lexer": "ipython3",
   "version": "3.10.7"
  },
  "orig_nbformat": 4,
  "vscode": {
   "interpreter": {
    "hash": "e9265a22922cf29a7916131f3def5e811c3f0863f796f834e6c61767dd663e75"
   }
  }
 },
 "nbformat": 4,
 "nbformat_minor": 2
}
