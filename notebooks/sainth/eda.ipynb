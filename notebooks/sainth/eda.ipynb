{
 "cells": [
  {
   "cell_type": "markdown",
   "metadata": {},
   "source": [
    "# EDA for Big Data Derby Competition"
   ]
  },
  {
   "cell_type": "markdown",
   "metadata": {},
   "source": [
    "### Creating paths to diferent folders"
   ]
  },
  {
   "cell_type": "code",
   "execution_count": 1,
   "metadata": {},
   "outputs": [
    {
     "name": "stdout",
     "output_type": "stream",
     "text": [
      "Notebook dir:  r:\\kaggle\\big-data-derby-kaggle\\notebooks\\sainth\n",
      "Repo dir:  r:\\kaggle\\big-data-derby-kaggle\n",
      "Data dir:  r:\\kaggle\\big-data-derby-kaggle\\data\n"
     ]
    }
   ],
   "source": [
    "import os\n",
    "from pathlib import Path\n",
    "\n",
    "# Get current work directory of file (Notebook dir)\n",
    "NOTEBOOK_DIR=Path(os.path.abspath(os.getcwd()))\n",
    "# Root path of repo\n",
    "WORK_DIR=NOTEBOOK_DIR.parent.parent\n",
    "# Path to Datasets\n",
    "DATA_DIR=WORK_DIR / 'data'\n",
    "\n",
    "# Noob printing to check if I did this shit right\n",
    "print(\"Notebook dir: \", NOTEBOOK_DIR)\n",
    "print(\"Repo dir: \", WORK_DIR)\n",
    "print(\"Data dir: \", DATA_DIR)"
   ]
  },
  {
   "cell_type": "markdown",
   "metadata": {},
   "source": [
    "### Loading csv into dataframes"
   ]
  },
  {
   "cell_type": "code",
   "execution_count": 2,
   "metadata": {},
   "outputs": [
    {
     "name": "stderr",
     "output_type": "stream",
     "text": [
      "C:\\Users\\santi\\AppData\\Local\\Temp\\ipykernel_27768\\36363920.py:6: DtypeWarning: Columns (3) have mixed types. Specify dtype option on import or set low_memory=False.\n",
      "  complete_data= pd.read_csv(DATA_DIR / 'nyra_2019_complete.csv', names=['track_id','race_date','race_number','program_number','trakus_index','latitude','longitude','distance_id','course_type','track_condition','run_up_distance','race_type','purse','post_time','weight_carried','jockey','odds','position_at_finish'])\n"
     ]
    }
   ],
   "source": [
    "import pandas as pd\n",
    "pd.plotting.register_matplotlib_converters()\n",
    "import matplotlib.pyplot as plt\n",
    "import seaborn as sns\n",
    "\n",
    "complete_data= pd.read_csv(DATA_DIR / 'nyra_2019_complete.csv', names=['track_id','race_date','race_number','program_number','trakus_index','latitude','longitude','distance_id','course_type','track_condition','run_up_distance','race_type','purse','post_time','weight_carried','jockey','odds','position_at_finish'])\n",
    "complete_data['race_date'].value_counts()\n",
    "mix_cd = complete_data.set_index(['track_id', 'race_date', 'race_number', 'program_number'])\n"
   ]
  },
  {
   "cell_type": "code",
   "execution_count": 3,
   "metadata": {},
   "outputs": [
    {
     "name": "stderr",
     "output_type": "stream",
     "text": [
      "C:\\Users\\santi\\AppData\\Local\\Temp\\ipykernel_27768\\2552478482.py:1: FutureWarning: Indexing with multiple keys (implicitly converted to a tuple of keys) will be deprecated, use a list instead.\n",
      "  race_result_df = complete_data.groupby(['track_id', 'race_date','race_number','jockey'])['race_type', 'track_condition','program_number','weight_carried','position_at_finish'].first()\n"
     ]
    },
    {
     "data": {
      "text/html": [
       "<div>\n",
       "<style scoped>\n",
       "    .dataframe tbody tr th:only-of-type {\n",
       "        vertical-align: middle;\n",
       "    }\n",
       "\n",
       "    .dataframe tbody tr th {\n",
       "        vertical-align: top;\n",
       "    }\n",
       "\n",
       "    .dataframe thead th {\n",
       "        text-align: right;\n",
       "    }\n",
       "</style>\n",
       "<table border=\"1\" class=\"dataframe\">\n",
       "  <thead>\n",
       "    <tr style=\"text-align: right;\">\n",
       "      <th></th>\n",
       "      <th>track_id</th>\n",
       "      <th>race_date</th>\n",
       "      <th>race_number</th>\n",
       "      <th>jockey</th>\n",
       "      <th>race_type</th>\n",
       "      <th>track_condition</th>\n",
       "      <th>program_number</th>\n",
       "      <th>weight_carried</th>\n",
       "      <th>position_at_finish</th>\n",
       "    </tr>\n",
       "  </thead>\n",
       "  <tbody>\n",
       "    <tr>\n",
       "      <th>0</th>\n",
       "      <td>AQU</td>\n",
       "      <td>2019-01-01</td>\n",
       "      <td>1</td>\n",
       "      <td>Dylan Davis</td>\n",
       "      <td>AOC</td>\n",
       "      <td>MY</td>\n",
       "      <td>1</td>\n",
       "      <td>123</td>\n",
       "      <td>2</td>\n",
       "    </tr>\n",
       "    <tr>\n",
       "      <th>1</th>\n",
       "      <td>AQU</td>\n",
       "      <td>2019-01-01</td>\n",
       "      <td>1</td>\n",
       "      <td>Jomar Garcia</td>\n",
       "      <td>AOC</td>\n",
       "      <td>MY</td>\n",
       "      <td>4</td>\n",
       "      <td>123</td>\n",
       "      <td>5</td>\n",
       "    </tr>\n",
       "    <tr>\n",
       "      <th>2</th>\n",
       "      <td>AQU</td>\n",
       "      <td>2019-01-01</td>\n",
       "      <td>1</td>\n",
       "      <td>Jose Lezcano</td>\n",
       "      <td>AOC</td>\n",
       "      <td>MY</td>\n",
       "      <td>3</td>\n",
       "      <td>118</td>\n",
       "      <td>4</td>\n",
       "    </tr>\n",
       "    <tr>\n",
       "      <th>3</th>\n",
       "      <td>AQU</td>\n",
       "      <td>2019-01-01</td>\n",
       "      <td>1</td>\n",
       "      <td>Junior Alvarado</td>\n",
       "      <td>AOC</td>\n",
       "      <td>MY</td>\n",
       "      <td>2</td>\n",
       "      <td>120</td>\n",
       "      <td>3</td>\n",
       "    </tr>\n",
       "    <tr>\n",
       "      <th>4</th>\n",
       "      <td>AQU</td>\n",
       "      <td>2019-01-01</td>\n",
       "      <td>1</td>\n",
       "      <td>Manuel Franco</td>\n",
       "      <td>AOC</td>\n",
       "      <td>MY</td>\n",
       "      <td>5</td>\n",
       "      <td>118</td>\n",
       "      <td>1</td>\n",
       "    </tr>\n",
       "  </tbody>\n",
       "</table>\n",
       "</div>"
      ],
      "text/plain": [
       "  track_id   race_date  race_number           jockey race_type  \\\n",
       "0      AQU  2019-01-01            1      Dylan Davis       AOC   \n",
       "1      AQU  2019-01-01            1     Jomar Garcia       AOC   \n",
       "2      AQU  2019-01-01            1     Jose Lezcano       AOC   \n",
       "3      AQU  2019-01-01            1  Junior Alvarado       AOC   \n",
       "4      AQU  2019-01-01            1    Manuel Franco       AOC   \n",
       "\n",
       "  track_condition program_number  weight_carried  position_at_finish  \n",
       "0             MY             1               123                   2  \n",
       "1             MY               4             123                   5  \n",
       "2             MY               3             118                   4  \n",
       "3             MY             2               120                   3  \n",
       "4             MY               5             118                   1  "
      ]
     },
     "execution_count": 3,
     "metadata": {},
     "output_type": "execute_result"
    }
   ],
   "source": [
    "race_result_df = complete_data.groupby(['track_id', 'race_date','race_number','jockey'])['race_type', 'track_condition','program_number','weight_carried','position_at_finish'].first()\n",
    "rcd=race_result_df.reset_index()\n",
    "rcd.head()"
   ]
  },
  {
   "cell_type": "markdown",
   "metadata": {},
   "source": [
    "## Load Race table df, and check race location distribution\n"
   ]
  },
  {
   "cell_type": "code",
   "execution_count": 8,
   "metadata": {},
   "outputs": [
    {
     "data": {
      "text/plain": [
       "<AxesSubplot:>"
      ]
     },
     "execution_count": 8,
     "metadata": {},
     "output_type": "execute_result"
    },
    {
     "data": {
      "image/png": "[encoded data removed]",
      "text/plain": [
       "<Figure size 640x480 with 1 Axes>"
      ]
     },
     "metadata": {},
     "output_type": "display_data"
    }
   ],
   "source": [
    "race_data = pd.read_csv(DATA_DIR / 'nyra_race_table.csv')\n",
    "\n",
    "race_data['track_id'].value_counts().plot(kind='bar')"
   ]
  },
  {
   "cell_type": "code",
   "execution_count": 120,
   "metadata": {},
   "outputs": [
    {
     "data": {
      "text/plain": [
       "<AxesSubplot:>"
      ]
     },
     "execution_count": 120,
     "metadata": {},
     "output_type": "execute_result"
    },
    {
     "data": {
      "image/png": "[encoded data removed]",
      "text/plain": [
       "<Figure size 640x480 with 1 Axes>"
      ]
     },
     "metadata": {},
     "output_type": "display_data"
    }
   ],
   "source": [
    "race_data['race_type'].value_counts().plot(kind='bar')"
   ]
  },
  {
   "cell_type": "markdown",
   "metadata": {},
   "source": []
  },
  {
   "cell_type": "markdown",
   "metadata": {},
   "source": [
    "## Managing data about races... Distance, Velocity and Acceleration"
   ]
  },
  {
   "cell_type": "markdown",
   "metadata": {},
   "source": [
    "### For now, let's check good jockeys for evaluation, i.e. Who are the best and the worst \"W/L\" in more races"
   ]
  },
  {
   "cell_type": "code",
   "execution_count": 9,
   "metadata": {},
   "outputs": [
    {
     "data": {
      "text/plain": [
       "count              2003\n",
       "unique               67\n",
       "top       Manuel Franco\n",
       "freq                214\n",
       "Name: jockey, dtype: object"
      ]
     },
     "execution_count": 9,
     "metadata": {},
     "output_type": "execute_result"
    }
   ],
   "source": [
    "# Let's check which is the best \"winner jockey\" to evaluate \n",
    "rcd[rcd['position_at_finish']==1].jockey.describe()"
   ]
  },
  {
   "cell_type": "code",
   "execution_count": 10,
   "metadata": {},
   "outputs": [
    {
     "data": {
      "text/plain": [
       "count            1692\n",
       "unique             94\n",
       "top       Dylan Davis\n",
       "freq              147\n",
       "Name: jockey, dtype: object"
      ]
     },
     "execution_count": 10,
     "metadata": {},
     "output_type": "execute_result"
    }
   ],
   "source": [
    "# Now let's check the same for best \"looser jockey\" case.\n",
    "# Since we don't have always the same amount of competitors,\n",
    "# let's check which is the most common quantity of positions\n",
    "\n",
    "rcd[rcd['position_at_finish']==6].jockey.describe()\n"
   ]
  },
  {
   "cell_type": "markdown",
   "metadata": {},
   "source": [
    "### Now that we know that 'Manuel Franco' and 'Dylan Davis' are respectively the \"most 1st\" and \"most sixth\", lets try to add distance, velocity and acceleration\n",
    "\n",
    "#### Considerations: Trackus index starts at 1."
   ]
  },
  {
   "cell_type": "code",
   "execution_count": 11,
   "metadata": {},
   "outputs": [],
   "source": [
    "from math import radians, cos, sin, asin, sqrt, ceil\n",
    "\n",
    "# Let's def function to apply Haversine formulae\n",
    "# this snippet of code is extracted from https://www.geeksforgeeks.org/program-distance-two-points-earth/\n",
    "# by Aarti_Rathi\n",
    "def haversine_distance(row):\n",
    "    # Convert from degrees to radians.\n",
    "    lon1 = radians(row.longitude)\n",
    "    lon2 = radians(row.shift_longitude)\n",
    "    lat1 = radians(row.latitude)\n",
    "    lat2 = radians(row.shift_latitude)\n",
    "      \n",
    "    # Haversine formula\n",
    "    dlon = lon2 - lon1\n",
    "    dlat = lat2 - lat1\n",
    "    a = sin(dlat / 2)**2 + cos(lat1) * cos(lat2) * sin(dlon / 2)**2\n",
    " \n",
    "    c = 2 * asin(sqrt(a))\n",
    "    \n",
    "    # Radius of earth in kilometers. Use 3956 for miles\n",
    "    r = 6371\n",
    "      \n",
    "    # calculate the result\n",
    "    return(c * r)\n"
   ]
  },
  {
   "cell_type": "markdown",
   "metadata": {},
   "source": [
    "So, we now (at least i think) have the distance the horse have runned. now let's check how many readings were made by trakus for the run-up (58 feet in this example).\n",
    "We may want to replace iterrows with cumsum"
   ]
  },
  {
   "cell_type": "markdown",
   "metadata": {},
   "source": [
    "#### Now let's get some more interesting stats, like velocity and acceleration!"
   ]
  },
  {
   "cell_type": "code",
   "execution_count": 12,
   "metadata": {},
   "outputs": [],
   "source": [
    "def velocity(row):\n",
    "    km_to_m=row.trakus_distance*1000\n",
    "    time=0.25\n",
    "    v_m_s = km_to_m / time\n",
    "    return v_m_s\n",
    "\n",
    "def acceleration(row):\n",
    "    delta_v = row.velocity - row.shift_velocity\n",
    "    time = 0.25\n",
    "    a_m_s2= delta_v / time\n",
    "    return a_m_s2\n"
   ]
  },
  {
   "cell_type": "markdown",
   "metadata": {},
   "source": [
    "### Let's find slower competitor"
   ]
  },
  {
   "cell_type": "code",
   "execution_count": 13,
   "metadata": {},
   "outputs": [
    {
     "data": {
      "text/plain": [
       "1357303    Hector Rafael Diaz Jr.\n",
       "1357304    Hector Rafael Diaz Jr.\n",
       "1357305    Hector Rafael Diaz Jr.\n",
       "1357306    Hector Rafael Diaz Jr.\n",
       "1357307    Hector Rafael Diaz Jr.\n",
       "                    ...          \n",
       "1357573    Hector Rafael Diaz Jr.\n",
       "1357574    Hector Rafael Diaz Jr.\n",
       "1357575    Hector Rafael Diaz Jr.\n",
       "1357576    Hector Rafael Diaz Jr.\n",
       "1357577    Hector Rafael Diaz Jr.\n",
       "Name: jockey, Length: 275, dtype: object"
      ]
     },
     "execution_count": 13,
     "metadata": {},
     "output_type": "execute_result"
    }
   ],
   "source": [
    "complete_data[(complete_data.track_id == \"AQU\")\n",
    "& (complete_data.race_date == \"2019-04-19\")\n",
    "& (complete_data.race_number == 7)\n",
    "& (complete_data.position_at_finish == 6)\n",
    "].jockey"
   ]
  },
  {
   "cell_type": "markdown",
   "metadata": {},
   "source": [
    "Now, to apply same result than previous guy, maybe do a function to make this isolated dataframes"
   ]
  },
  {
   "cell_type": "code",
   "execution_count": 14,
   "metadata": {},
   "outputs": [],
   "source": [
    "def isolate_jockey_and_race(complete_data_df, jockey, track_id, race_date, race_number):\n",
    "    \n",
    "    # Reading race data into df\n",
    "    single_jockey_race=complete_data_df[(complete_data_df.jockey == jockey)\n",
    "    & (complete_data_df.track_id == track_id)\n",
    "    & (complete_data_df.race_date == race_date)\n",
    "    & (complete_data_df.race_number == race_number)\n",
    "    ]\n",
    "    \n",
    "    # Adding \"previuos coordinates\" to data frame with pandas shift func\n",
    "    single_jockey_race=single_jockey_race.sort_values(by='trakus_index')\n",
    "    r_shift = single_jockey_race.shift()\n",
    "    r_shift\n",
    "    single_jockey_race['shift_latitude']=r_shift['latitude'].fillna(0)\n",
    "    single_jockey_race['shift_longitude']=r_shift['longitude'].fillna(0)\n",
    "\n",
    "    # Add distance between current trakus read and previous one\n",
    "    single_jockey_race['trakus_distance']=single_jockey_race.apply(haversine_distance, axis='columns')\n",
    "    single_jockey_race['trakus_distance']=single_jockey_race.trakus_distance.map(lambda td: 0 if td>1 else td)\n",
    "    single_jockey_race['distance_covered']=single_jockey_race.trakus_distance.cumsum()\n",
    "\n",
    "    # Add Velocity and acceleration\n",
    "    single_jockey_race['velocity']=single_jockey_race.apply(velocity, axis='columns')\n",
    "    single_jockey_race_vshift=single_jockey_race.shift()\n",
    "    single_jockey_race['shift_velocity']=single_jockey_race_vshift['velocity'].fillna(0)\n",
    "    single_jockey_race['acceleration']=single_jockey_race.apply(acceleration, axis='columns')\n",
    "\n",
    "    # Print some stats\n",
    "    runup_kmd=0.0176784   \n",
    "    rand_d=0 # runup distance\n",
    "    tix=0 # trackus index post ranup distance\n",
    "    for index, row in single_jockey_race.iterrows():\n",
    "        rand_d=rand_d+row.trakus_distance\n",
    "        if rand_d > runup_kmd:\n",
    "            ntix=row.trakus_index\n",
    "            tix = row.trakus_index - 1\n",
    "            break\n",
    "    total_distance = single_jockey_race.trakus_distance.sum() * 1000 \n",
    "    runup_distance = rand_d * 1000\n",
    "    race_distance = (single_jockey_race.distance_id.unique()[0] / 100) * 201.168 # from furlongs to meters\n",
    "    excess_distance = total_distance - runup_distance - race_distance\n",
    "\n",
    "    print(f'''Race of {jockey}, in {track_id}, {race_date}, race number: {race_number}\n",
    "    Total distance ran: {total_distance} m\n",
    "    runup distance: {runup_distance} m\n",
    "    declared race distance: {race_distance} m\n",
    "    excess distance: {excess_distance} m\n",
    "    ''')\n",
    "\n",
    "    return single_jockey_race\n",
    "\n",
    "    "
   ]
  },
  {
   "cell_type": "code",
   "execution_count": 16,
   "metadata": {},
   "outputs": [
    {
     "name": "stdout",
     "output_type": "stream",
     "text": [
      "Race of Hector Rafael Diaz Jr., in AQU, 2019-04-19, race number: 7\n",
      "    Total distance ran: 1335.1686100972129 m\n",
      "    runup distance: 19.730840368024698 m\n",
      "    declared race distance: 1207.008 m\n",
      "    excess distance: 108.42976972918814 m\n",
      "    \n"
     ]
    }
   ],
   "source": [
    "# results for Hector Rafael Diaz Jr.\n",
    "hector_rdj_df=isolate_jockey_and_race(complete_data_df=complete_data, jockey=\"Hector Rafael Diaz Jr.\", track_id=\"AQU\", race_date=\"2019-04-19\", race_number=7)\n"
   ]
  },
  {
   "cell_type": "code",
   "execution_count": 17,
   "metadata": {},
   "outputs": [
    {
     "name": "stdout",
     "output_type": "stream",
     "text": [
      "Race of Manuel Franco, in AQU, 2019-04-19, race number: 7\n",
      "    Total distance ran: 1346.3377664612817 m\n",
      "    runup distance: 17.9566026930563 m\n",
      "    declared race distance: 1207.008 m\n",
      "    excess distance: 121.37316376822537 m\n",
      "    \n"
     ]
    }
   ],
   "source": [
    "manuel_f_df=isolate_jockey_and_race(complete_data_df=complete_data, jockey=\"Manuel Franco\", track_id=\"AQU\", race_date=\"2019-04-19\", race_number=7)\n"
   ]
  },
  {
   "cell_type": "markdown",
   "metadata": {},
   "source": [
    "#### Let's do some visualization!"
   ]
  },
  {
   "cell_type": "code",
   "execution_count": 18,
   "metadata": {},
   "outputs": [
    {
     "data": {
      "text/plain": [
       "count    275.000000\n",
       "mean       0.225184\n",
       "std        1.619884\n",
       "min       -3.060138\n",
       "25%       -0.791694\n",
       "50%        0.115944\n",
       "75%        0.874312\n",
       "max       10.016104\n",
       "Name: acceleration, dtype: float64"
      ]
     },
     "execution_count": 18,
     "metadata": {},
     "output_type": "execute_result"
    }
   ],
   "source": [
    "manuel_f_df.acceleration.describe()"
   ]
  },
  {
   "cell_type": "code",
   "execution_count": 19,
   "metadata": {},
   "outputs": [
    {
     "data": {
      "text/plain": [
       "count    275.000000\n",
       "mean       0.227366\n",
       "std        1.639196\n",
       "min       -4.100741\n",
       "25%       -0.693390\n",
       "50%        0.048179\n",
       "75%        0.856744\n",
       "max       11.615158\n",
       "Name: acceleration, dtype: float64"
      ]
     },
     "execution_count": 19,
     "metadata": {},
     "output_type": "execute_result"
    }
   ],
   "source": [
    "hector_rdj_df.acceleration.describe()"
   ]
  },
  {
   "cell_type": "code",
   "execution_count": 20,
   "metadata": {},
   "outputs": [
    {
     "data": {
      "text/plain": [
       "<matplotlib.legend.Legend at 0x187fdb8b3a0>"
      ]
     },
     "execution_count": 20,
     "metadata": {},
     "output_type": "execute_result"
    },
    {
     "data": {
      "image/png": "[encoded data removed]",
      "text/plain": [
       "<Figure size 640x480 with 1 Axes>"
      ]
     },
     "metadata": {},
     "output_type": "display_data"
    }
   ],
   "source": [
    "\n",
    "sns.lineplot(x=\"distance_covered\", y=\"velocity\",\n",
    "data=manuel_f_df, label=\"velocity_manuel\")\n",
    "sns.lineplot(x=\"distance_covered\", y=\"velocity\", label=\"hector_velocity\",\n",
    "data=hector_rdj_df)\n",
    "sns.lineplot(x=\"distance_covered\", y=\"acceleration\", label=\"acc_manuel\",\n",
    "data=manuel_f_df)\n",
    "sns.lineplot(x=\"distance_covered\", y=\"acceleration\", label=\"acc_hector\",\n",
    "data=hector_rdj_df)\n",
    "plt.legend()"
   ]
  },
  {
   "cell_type": "code",
   "execution_count": 118,
   "metadata": {},
   "outputs": [
    {
     "data": {
      "text/html": [
       "<div>\n",
       "<style scoped>\n",
       "    .dataframe tbody tr th:only-of-type {\n",
       "        vertical-align: middle;\n",
       "    }\n",
       "\n",
       "    .dataframe tbody tr th {\n",
       "        vertical-align: top;\n",
       "    }\n",
       "\n",
       "    .dataframe thead th {\n",
       "        text-align: right;\n",
       "    }\n",
       "</style>\n",
       "<table border=\"1\" class=\"dataframe\">\n",
       "  <thead>\n",
       "    <tr style=\"text-align: right;\">\n",
       "      <th></th>\n",
       "      <th>track_id</th>\n",
       "      <th>race_date</th>\n",
       "      <th>race_number</th>\n",
       "      <th>program_number</th>\n",
       "      <th>trakus_index</th>\n",
       "      <th>latitude</th>\n",
       "      <th>longitude</th>\n",
       "      <th>distance_id</th>\n",
       "      <th>course_type</th>\n",
       "      <th>track_condition</th>\n",
       "      <th>...</th>\n",
       "      <th>jockey</th>\n",
       "      <th>odds</th>\n",
       "      <th>position_at_finish</th>\n",
       "      <th>shift_latitude</th>\n",
       "      <th>shift_longitude</th>\n",
       "      <th>trakus_distance</th>\n",
       "      <th>distance_covered</th>\n",
       "      <th>velocity</th>\n",
       "      <th>shift_velocity</th>\n",
       "      <th>acceleration</th>\n",
       "    </tr>\n",
       "  </thead>\n",
       "  <tbody>\n",
       "    <tr>\n",
       "      <th>297</th>\n",
       "      <td>AQU</td>\n",
       "      <td>2019-04-19</td>\n",
       "      <td>7</td>\n",
       "      <td>2</td>\n",
       "      <td>1</td>\n",
       "      <td>40.669548</td>\n",
       "      <td>-73.829641</td>\n",
       "      <td>600</td>\n",
       "      <td>O</td>\n",
       "      <td>FM</td>\n",
       "      <td>...</td>\n",
       "      <td>Manuel Franco</td>\n",
       "      <td>335</td>\n",
       "      <td>2</td>\n",
       "      <td>0.000000</td>\n",
       "      <td>0.000000</td>\n",
       "      <td>0.000000</td>\n",
       "      <td>0.000000</td>\n",
       "      <td>0.000000</td>\n",
       "      <td>0.000000</td>\n",
       "      <td>0.000000</td>\n",
       "    </tr>\n",
       "    <tr>\n",
       "      <th>298</th>\n",
       "      <td>AQU</td>\n",
       "      <td>2019-04-19</td>\n",
       "      <td>7</td>\n",
       "      <td>2</td>\n",
       "      <td>2</td>\n",
       "      <td>40.669553</td>\n",
       "      <td>-73.829638</td>\n",
       "      <td>600</td>\n",
       "      <td>O</td>\n",
       "      <td>FM</td>\n",
       "      <td>...</td>\n",
       "      <td>Manuel Franco</td>\n",
       "      <td>335</td>\n",
       "      <td>2</td>\n",
       "      <td>40.669548</td>\n",
       "      <td>-73.829641</td>\n",
       "      <td>0.000626</td>\n",
       "      <td>0.000626</td>\n",
       "      <td>2.504026</td>\n",
       "      <td>0.000000</td>\n",
       "      <td>10.016104</td>\n",
       "    </tr>\n",
       "    <tr>\n",
       "      <th>299</th>\n",
       "      <td>AQU</td>\n",
       "      <td>2019-04-19</td>\n",
       "      <td>7</td>\n",
       "      <td>2</td>\n",
       "      <td>3</td>\n",
       "      <td>40.669559</td>\n",
       "      <td>-73.829635</td>\n",
       "      <td>600</td>\n",
       "      <td>O</td>\n",
       "      <td>FM</td>\n",
       "      <td>...</td>\n",
       "      <td>Manuel Franco</td>\n",
       "      <td>335</td>\n",
       "      <td>2</td>\n",
       "      <td>40.669553</td>\n",
       "      <td>-73.829638</td>\n",
       "      <td>0.000683</td>\n",
       "      <td>0.001309</td>\n",
       "      <td>2.731228</td>\n",
       "      <td>2.504026</td>\n",
       "      <td>0.908808</td>\n",
       "    </tr>\n",
       "    <tr>\n",
       "      <th>300</th>\n",
       "      <td>AQU</td>\n",
       "      <td>2019-04-19</td>\n",
       "      <td>7</td>\n",
       "      <td>2</td>\n",
       "      <td>4</td>\n",
       "      <td>40.669567</td>\n",
       "      <td>-73.829632</td>\n",
       "      <td>600</td>\n",
       "      <td>O</td>\n",
       "      <td>FM</td>\n",
       "      <td>...</td>\n",
       "      <td>Manuel Franco</td>\n",
       "      <td>335</td>\n",
       "      <td>2</td>\n",
       "      <td>40.669559</td>\n",
       "      <td>-73.829635</td>\n",
       "      <td>0.000968</td>\n",
       "      <td>0.002276</td>\n",
       "      <td>3.870441</td>\n",
       "      <td>2.731228</td>\n",
       "      <td>4.556852</td>\n",
       "    </tr>\n",
       "    <tr>\n",
       "      <th>301</th>\n",
       "      <td>AQU</td>\n",
       "      <td>2019-04-19</td>\n",
       "      <td>7</td>\n",
       "      <td>2</td>\n",
       "      <td>5</td>\n",
       "      <td>40.669578</td>\n",
       "      <td>-73.829627</td>\n",
       "      <td>600</td>\n",
       "      <td>O</td>\n",
       "      <td>FM</td>\n",
       "      <td>...</td>\n",
       "      <td>Manuel Franco</td>\n",
       "      <td>335</td>\n",
       "      <td>2</td>\n",
       "      <td>40.669567</td>\n",
       "      <td>-73.829632</td>\n",
       "      <td>0.001237</td>\n",
       "      <td>0.003513</td>\n",
       "      <td>4.947897</td>\n",
       "      <td>3.870441</td>\n",
       "      <td>4.309826</td>\n",
       "    </tr>\n",
       "    <tr>\n",
       "      <th>...</th>\n",
       "      <td>...</td>\n",
       "      <td>...</td>\n",
       "      <td>...</td>\n",
       "      <td>...</td>\n",
       "      <td>...</td>\n",
       "      <td>...</td>\n",
       "      <td>...</td>\n",
       "      <td>...</td>\n",
       "      <td>...</td>\n",
       "      <td>...</td>\n",
       "      <td>...</td>\n",
       "      <td>...</td>\n",
       "      <td>...</td>\n",
       "      <td>...</td>\n",
       "      <td>...</td>\n",
       "      <td>...</td>\n",
       "      <td>...</td>\n",
       "      <td>...</td>\n",
       "      <td>...</td>\n",
       "      <td>...</td>\n",
       "      <td>...</td>\n",
       "    </tr>\n",
       "    <tr>\n",
       "      <th>303</th>\n",
       "      <td>AQU</td>\n",
       "      <td>2019-04-19</td>\n",
       "      <td>7</td>\n",
       "      <td>2</td>\n",
       "      <td>271</td>\n",
       "      <td>40.670832</td>\n",
       "      <td>-73.831894</td>\n",
       "      <td>600</td>\n",
       "      <td>O</td>\n",
       "      <td>FM</td>\n",
       "      <td>...</td>\n",
       "      <td>Manuel Franco</td>\n",
       "      <td>335</td>\n",
       "      <td>2</td>\n",
       "      <td>40.670864</td>\n",
       "      <td>-73.831880</td>\n",
       "      <td>0.003817</td>\n",
       "      <td>1.330871</td>\n",
       "      <td>15.268296</td>\n",
       "      <td>15.828894</td>\n",
       "      <td>-2.242391</td>\n",
       "    </tr>\n",
       "    <tr>\n",
       "      <th>304</th>\n",
       "      <td>AQU</td>\n",
       "      <td>2019-04-19</td>\n",
       "      <td>7</td>\n",
       "      <td>2</td>\n",
       "      <td>272</td>\n",
       "      <td>40.670798</td>\n",
       "      <td>-73.831909</td>\n",
       "      <td>600</td>\n",
       "      <td>O</td>\n",
       "      <td>FM</td>\n",
       "      <td>...</td>\n",
       "      <td>Manuel Franco</td>\n",
       "      <td>335</td>\n",
       "      <td>2</td>\n",
       "      <td>40.670832</td>\n",
       "      <td>-73.831894</td>\n",
       "      <td>0.003933</td>\n",
       "      <td>1.334804</td>\n",
       "      <td>15.732723</td>\n",
       "      <td>15.268296</td>\n",
       "      <td>1.857709</td>\n",
       "    </tr>\n",
       "    <tr>\n",
       "      <th>305</th>\n",
       "      <td>AQU</td>\n",
       "      <td>2019-04-19</td>\n",
       "      <td>7</td>\n",
       "      <td>2</td>\n",
       "      <td>273</td>\n",
       "      <td>40.670766</td>\n",
       "      <td>-73.831923</td>\n",
       "      <td>600</td>\n",
       "      <td>O</td>\n",
       "      <td>FM</td>\n",
       "      <td>...</td>\n",
       "      <td>Manuel Franco</td>\n",
       "      <td>335</td>\n",
       "      <td>2</td>\n",
       "      <td>40.670798</td>\n",
       "      <td>-73.831909</td>\n",
       "      <td>0.003817</td>\n",
       "      <td>1.338621</td>\n",
       "      <td>15.268090</td>\n",
       "      <td>15.732723</td>\n",
       "      <td>-1.858533</td>\n",
       "    </tr>\n",
       "    <tr>\n",
       "      <th>306</th>\n",
       "      <td>AQU</td>\n",
       "      <td>2019-04-19</td>\n",
       "      <td>7</td>\n",
       "      <td>2</td>\n",
       "      <td>274</td>\n",
       "      <td>40.670733</td>\n",
       "      <td>-73.831938</td>\n",
       "      <td>600</td>\n",
       "      <td>O</td>\n",
       "      <td>FM</td>\n",
       "      <td>...</td>\n",
       "      <td>Manuel Franco</td>\n",
       "      <td>335</td>\n",
       "      <td>2</td>\n",
       "      <td>40.670766</td>\n",
       "      <td>-73.831923</td>\n",
       "      <td>0.003846</td>\n",
       "      <td>1.342467</td>\n",
       "      <td>15.384420</td>\n",
       "      <td>15.268090</td>\n",
       "      <td>0.465319</td>\n",
       "    </tr>\n",
       "    <tr>\n",
       "      <th>307</th>\n",
       "      <td>AQU</td>\n",
       "      <td>2019-04-19</td>\n",
       "      <td>7</td>\n",
       "      <td>2</td>\n",
       "      <td>275</td>\n",
       "      <td>40.670700</td>\n",
       "      <td>-73.831952</td>\n",
       "      <td>600</td>\n",
       "      <td>O</td>\n",
       "      <td>FM</td>\n",
       "      <td>...</td>\n",
       "      <td>Manuel Franco</td>\n",
       "      <td>335</td>\n",
       "      <td>2</td>\n",
       "      <td>40.670733</td>\n",
       "      <td>-73.831938</td>\n",
       "      <td>0.003870</td>\n",
       "      <td>1.346338</td>\n",
       "      <td>15.481430</td>\n",
       "      <td>15.384420</td>\n",
       "      <td>0.388039</td>\n",
       "    </tr>\n",
       "  </tbody>\n",
       "</table>\n",
       "<p>275 rows × 25 columns</p>\n",
       "</div>"
      ],
      "text/plain": [
       "    track_id   race_date  race_number program_number  trakus_index   latitude  \\\n",
       "297      AQU  2019-04-19            7            2               1  40.669548   \n",
       "298      AQU  2019-04-19            7            2               2  40.669553   \n",
       "299      AQU  2019-04-19            7            2               3  40.669559   \n",
       "300      AQU  2019-04-19            7            2               4  40.669567   \n",
       "301      AQU  2019-04-19            7            2               5  40.669578   \n",
       "..       ...         ...          ...            ...           ...        ...   \n",
       "303      AQU  2019-04-19            7            2             271  40.670832   \n",
       "304      AQU  2019-04-19            7            2             272  40.670798   \n",
       "305      AQU  2019-04-19            7            2             273  40.670766   \n",
       "306      AQU  2019-04-19            7            2             274  40.670733   \n",
       "307      AQU  2019-04-19            7            2             275  40.670700   \n",
       "\n",
       "     longitude  distance_id course_type track_condition  ...         jockey  \\\n",
       "297 -73.829641          600           O             FM   ...  Manuel Franco   \n",
       "298 -73.829638          600           O             FM   ...  Manuel Franco   \n",
       "299 -73.829635          600           O             FM   ...  Manuel Franco   \n",
       "300 -73.829632          600           O             FM   ...  Manuel Franco   \n",
       "301 -73.829627          600           O             FM   ...  Manuel Franco   \n",
       "..         ...          ...         ...             ...  ...            ...   \n",
       "303 -73.831894          600           O             FM   ...  Manuel Franco   \n",
       "304 -73.831909          600           O             FM   ...  Manuel Franco   \n",
       "305 -73.831923          600           O             FM   ...  Manuel Franco   \n",
       "306 -73.831938          600           O             FM   ...  Manuel Franco   \n",
       "307 -73.831952          600           O             FM   ...  Manuel Franco   \n",
       "\n",
       "    odds  position_at_finish  shift_latitude  shift_longitude trakus_distance  \\\n",
       "297  335                   2        0.000000         0.000000        0.000000   \n",
       "298  335                   2       40.669548       -73.829641        0.000626   \n",
       "299  335                   2       40.669553       -73.829638        0.000683   \n",
       "300  335                   2       40.669559       -73.829635        0.000968   \n",
       "301  335                   2       40.669567       -73.829632        0.001237   \n",
       "..   ...                 ...             ...              ...             ...   \n",
       "303  335                   2       40.670864       -73.831880        0.003817   \n",
       "304  335                   2       40.670832       -73.831894        0.003933   \n",
       "305  335                   2       40.670798       -73.831909        0.003817   \n",
       "306  335                   2       40.670766       -73.831923        0.003846   \n",
       "307  335                   2       40.670733       -73.831938        0.003870   \n",
       "\n",
       "     distance_covered   velocity  shift_velocity  acceleration  \n",
       "297          0.000000   0.000000        0.000000      0.000000  \n",
       "298          0.000626   2.504026        0.000000     10.016104  \n",
       "299          0.001309   2.731228        2.504026      0.908808  \n",
       "300          0.002276   3.870441        2.731228      4.556852  \n",
       "301          0.003513   4.947897        3.870441      4.309826  \n",
       "..                ...        ...             ...           ...  \n",
       "303          1.330871  15.268296       15.828894     -2.242391  \n",
       "304          1.334804  15.732723       15.268296      1.857709  \n",
       "305          1.338621  15.268090       15.732723     -1.858533  \n",
       "306          1.342467  15.384420       15.268090      0.465319  \n",
       "307          1.346338  15.481430       15.384420      0.388039  \n",
       "\n",
       "[275 rows x 25 columns]"
      ]
     },
     "execution_count": 118,
     "metadata": {},
     "output_type": "execute_result"
    }
   ],
   "source": [
    "manuel_f_df\n",
    "\n"
   ]
  },
  {
   "cell_type": "code",
   "execution_count": 110,
   "metadata": {},
   "outputs": [
    {
     "data": {
      "text/plain": [
       "'AQU'"
      ]
     },
     "execution_count": 110,
     "metadata": {},
     "output_type": "execute_result"
    }
   ],
   "source": [
    "manuel_f_df.track_id.unique()[0]"
   ]
  },
  {
   "cell_type": "code",
   "execution_count": 82,
   "metadata": {},
   "outputs": [
    {
     "data": {
      "text/plain": [
       "53"
      ]
     },
     "execution_count": 82,
     "metadata": {},
     "output_type": "execute_result"
    }
   ],
   "source": [
    "import math\n",
    "\n",
    "furlong_race_distance = manuel_f_df.distance_id.max() / 100\n",
    "meters_race_distance = furlong_race_distance * 201.168\n",
    "km_runup = manuel_f_df.run_up_distance.max() * 0.0003048\n",
    "tix=manuel_f_df[manuel_f_df.distance_covered<=km_runup].trakus_index.max() + 1\n",
    "trakus_index_step= math.ceil((manuel_f_df.trakus_index.max() - tix) / 5)\n",
    "trakus_index_step\n",
    "\n"
   ]
  },
  {
   "cell_type": "code",
   "execution_count": 119,
   "metadata": {},
   "outputs": [
    {
     "data": {
      "text/html": [
       "<div>\n",
       "<style scoped>\n",
       "    .dataframe tbody tr th:only-of-type {\n",
       "        vertical-align: middle;\n",
       "    }\n",
       "\n",
       "    .dataframe tbody tr th {\n",
       "        vertical-align: top;\n",
       "    }\n",
       "\n",
       "    .dataframe thead th {\n",
       "        text-align: right;\n",
       "    }\n",
       "</style>\n",
       "<table border=\"1\" class=\"dataframe\">\n",
       "  <thead>\n",
       "    <tr style=\"text-align: right;\">\n",
       "      <th></th>\n",
       "      <th>AQU</th>\n",
       "      <th>BEL</th>\n",
       "      <th>CLM</th>\n",
       "      <th>MSW</th>\n",
       "      <th>MCL</th>\n",
       "      <th>STK</th>\n",
       "      <th>trakus_index_qunatity</th>\n",
       "      <th>race_distance</th>\n",
       "      <th>track_condition</th>\n",
       "      <th>run_up_distance</th>\n",
       "      <th>...</th>\n",
       "      <th>distance_segement_3</th>\n",
       "      <th>average_speed_segement_3</th>\n",
       "      <th>average_acceleration_segement_3</th>\n",
       "      <th>distance_segement_4</th>\n",
       "      <th>average_speed_segement_4</th>\n",
       "      <th>average_acceleration_segement_4</th>\n",
       "      <th>distance_segement_5</th>\n",
       "      <th>average_speed_segement_5</th>\n",
       "      <th>average_acceleration_segement_5</th>\n",
       "      <th>position_at_finish</th>\n",
       "    </tr>\n",
       "  </thead>\n",
       "  <tbody>\n",
       "    <tr>\n",
       "      <th>0</th>\n",
       "      <td>1</td>\n",
       "      <td>0</td>\n",
       "      <td>1</td>\n",
       "      <td>0</td>\n",
       "      <td>0</td>\n",
       "      <td>0</td>\n",
       "      <td>275</td>\n",
       "      <td>600</td>\n",
       "      <td>0</td>\n",
       "      <td>0.017957</td>\n",
       "      <td>...</td>\n",
       "      <td>0.2706</td>\n",
       "      <td>20.815387</td>\n",
       "      <td>-0.054068</td>\n",
       "      <td>0.259593</td>\n",
       "      <td>19.968724</td>\n",
       "      <td>-0.113301</td>\n",
       "      <td>0.22217</td>\n",
       "      <td>17.425091</td>\n",
       "      <td>-0.295844</td>\n",
       "      <td>2</td>\n",
       "    </tr>\n",
       "  </tbody>\n",
       "</table>\n",
       "<p>1 rows × 31 columns</p>\n",
       "</div>"
      ],
      "text/plain": [
       "   AQU  BEL  CLM  MSW  MCL  STK  trakus_index_qunatity  race_distance  \\\n",
       "0    1    0    1    0    0    0                    275            600   \n",
       "\n",
       "   track_condition  run_up_distance  ...  distance_segement_3  \\\n",
       "0                0         0.017957  ...               0.2706   \n",
       "\n",
       "   average_speed_segement_3  average_acceleration_segement_3  \\\n",
       "0                 20.815387                        -0.054068   \n",
       "\n",
       "  distance_segement_4  average_speed_segement_4  \\\n",
       "0            0.259593                 19.968724   \n",
       "\n",
       "   average_acceleration_segement_4  distance_segement_5  \\\n",
       "0                        -0.113301              0.22217   \n",
       "\n",
       "   average_speed_segement_5  average_acceleration_segement_5  \\\n",
       "0                 17.425091                        -0.295844   \n",
       "\n",
       "   position_at_finish  \n",
       "0                   2  \n",
       "\n",
       "[1 rows x 31 columns]"
      ]
     },
     "execution_count": 119,
     "metadata": {},
     "output_type": "execute_result"
    }
   ],
   "source": [
    "import numpy as np\n",
    "tuple_start = 1\n",
    "index_interval=[]\n",
    "for i in range(0,6):\n",
    "    tuple_end= tix + (trakus_index_step * i)\n",
    "    index_interval.append((tuple_start, tuple_end))\n",
    "    tuple_start=tuple_end + 1\n",
    "    \n",
    "\n",
    "bins=pd.IntervalIndex.from_tuples(index_interval)\n",
    "manuel_f_df_grouped = manuel_f_df.groupby(pd.cut(manuel_f_df[\"trakus_index\"], bins))\n",
    "\n",
    "jockey_performance_data={\n",
    "    'AQU': 1 if manuel_f_df.track_id.unique() == 'AQU' else 0,\n",
    "    'BEL': 1 if manuel_f_df.track_id.unique() == 'BEL' else 0,\n",
    "    'CLM': 1 if manuel_f_df.race_type.unique() == 'CLM' else 0,\n",
    "    'MSW': 1 if manuel_f_df.race_type.unique() == 'MSW' else 0,\n",
    "    'MCL': 1 if manuel_f_df.race_type.unique() == 'MCL' else 0,\n",
    "    'STK': 1 if manuel_f_df.race_type.unique() == 'STK' else 0,\n",
    "    'trakus_index_qunatity': manuel_f_df.trakus_index.max(),\n",
    "    'race_distance': manuel_f_df.distance_id.max(),\n",
    "    'track_condition': 1 if manuel_f_df.track_condition.unique() in ['GD', 'FT', 'FM'] else 0,\n",
    "    'run_up_distance': manuel_f_df_grouped.trakus_distance.sum().iloc[0],\n",
    "    'average_speed_run_up':manuel_f_df_grouped.velocity.mean().iloc[0],\n",
    "    'average_acceleration_run_up':manuel_f_df_grouped.acceleration.mean().iloc[0],\n",
    "    'weight_carried':manuel_f_df.weight_carried.unique(),\n",
    "    'jockey': manuel_f_df.jockey.unique(), \n",
    "    'odds':manuel_f_df.odds.unique(),\n",
    "    'distance_segement_1':manuel_f_df_grouped.trakus_distance.sum().iloc[1],\n",
    "    'average_speed_segement_1':manuel_f_df_grouped.velocity.mean().iloc[1],\n",
    "    'average_acceleration_segement_1':manuel_f_df_grouped.acceleration.mean().iloc[1],\n",
    "    'distance_segement_2':manuel_f_df_grouped.trakus_distance.sum().iloc[2],\n",
    "    'average_speed_segement_2':manuel_f_df_grouped.velocity.mean().iloc[2],\n",
    "    'average_acceleration_segement_2':manuel_f_df_grouped.acceleration.mean().iloc[2],\n",
    "    'distance_segement_3':manuel_f_df_grouped.trakus_distance.sum().iloc[3],\n",
    "    'average_speed_segement_3':manuel_f_df_grouped.velocity.mean().iloc[3],\n",
    "    'average_acceleration_segement_3':manuel_f_df_grouped.acceleration.mean().iloc[3],\n",
    "    'distance_segement_4':manuel_f_df_grouped.trakus_distance.sum().iloc[4],\n",
    "    'average_speed_segement_4':manuel_f_df_grouped.velocity.mean().iloc[4],\n",
    "    'average_acceleration_segement_4':manuel_f_df_grouped.acceleration.mean().iloc[4],\n",
    "    'distance_segement_5':manuel_f_df_grouped.trakus_distance.sum().iloc[5],\n",
    "    'average_speed_segement_5':manuel_f_df_grouped.velocity.mean().iloc[5],\n",
    "    'average_acceleration_segement_5':manuel_f_df_grouped.acceleration.mean().iloc[5], \n",
    "    'position_at_finish':manuel_f_df.position_at_finish.unique()\n",
    "}\n",
    "\n",
    "manuel_performance=pd.DataFrame(jockey_performance_data)\n",
    "manuel_performance\n",
    "\n",
    "\n"
   ]
  }
 ],
 "metadata": {
  "kernelspec": {
   "display_name": "Python 3.10.6 64-bit (windows store)",
   "language": "python",
   "name": "python3"
  },
  "language_info": {
   "codemirror_mode": {
    "name": "ipython",
    "version": 3
   },
   "file_extension": ".py",
   "mimetype": "text/x-python",
   "name": "python",
   "nbconvert_exporter": "python",
   "pygments_lexer": "ipython3",
   "version": "3.10.8"
  },
  "orig_nbformat": 4,
  "vscode": {
   "interpreter": {
    "hash": "e9265a22922cf29a7916131f3def5e811c3f0863f796f834e6c61767dd663e75"
   }
  }
 },
 "nbformat": 4,
 "nbformat_minor": 2
}
