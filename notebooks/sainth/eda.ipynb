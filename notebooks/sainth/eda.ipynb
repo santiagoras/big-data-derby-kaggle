{
 "cells": [
  {
   "cell_type": "markdown",
   "metadata": {},
   "source": [
    "# EDA for Big Data Derby Competition"
   ]
  },
  {
   "cell_type": "markdown",
   "metadata": {},
   "source": [
    "### Creating paths to diferent folders"
   ]
  },
  {
   "cell_type": "code",
   "execution_count": 11,
   "metadata": {},
   "outputs": [
    {
     "name": "stdout",
     "output_type": "stream",
     "text": [
      "Notebook dir:  r:\\kaggle\\big-data-derby-kaggle\\notebooks\\sainth\n",
      "Repo dir:  r:\\kaggle\\big-data-derby-kaggle\n",
      "Data dir:  r:\\kaggle\\big-data-derby-kaggle\\data\n"
     ]
    }
   ],
   "source": [
    "import os\n",
    "from pathlib import Path\n",
    "\n",
    "# Get current work directory of file (Notebook dir)\n",
    "NOTEBOOK_DIR=Path(os.path.abspath(os.getcwd()))\n",
    "# Root path of repo\n",
    "WORK_DIR=NOTEBOOK_DIR.parent.parent\n",
    "# Path to Datasets\n",
    "DATA_DIR=WORK_DIR / 'data'\n",
    "\n",
    "# Noob printing to check if I did this shit right\n",
    "print(\"Notebook dir: \", NOTEBOOK_DIR)\n",
    "print(\"Repo dir: \", WORK_DIR)\n",
    "print(\"Data dir: \", DATA_DIR)"
   ]
  }
 ],
 "metadata": {
  "kernelspec": {
   "display_name": "Python 3.10.6 64-bit (windows store)",
   "language": "python",
   "name": "python3"
  },
  "language_info": {
   "codemirror_mode": {
    "name": "ipython",
    "version": 3
   },
   "file_extension": ".py",
   "mimetype": "text/x-python",
   "name": "python",
   "nbconvert_exporter": "python",
   "pygments_lexer": "ipython3",
   "version": "3.10.7"
  },
  "orig_nbformat": 4,
  "vscode": {
   "interpreter": {
    "hash": "e9265a22922cf29a7916131f3def5e811c3f0863f796f834e6c61767dd663e75"
   }
  }
 },
 "nbformat": 4,
 "nbformat_minor": 2
}
