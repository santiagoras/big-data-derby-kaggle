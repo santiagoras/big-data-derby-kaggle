{
 "cells": [
  {
   "cell_type": "markdown",
   "metadata": {},
   "source": [
    "# EDA for Big Data Derby Competition"
   ]
  },
  {
   "cell_type": "markdown",
   "metadata": {},
   "source": [
    "### Creating paths to diferent folders"
   ]
  },
  {
   "cell_type": "code",
   "execution_count": null,
   "metadata": {},
   "outputs": [],
   "source": [
    "import os\n",
    "from pathlib import Path\n",
    "\n",
    "# Get current work directory of file (Notebook dir)\n",
    "NOTEBOOK_DIR=Path(os.path.abspath(os.getcwd()))\n",
    "# Root path of repo\n",
    "WORK_DIR=NOTEBOOK_DIR.parent.parent\n",
    "# Path to Datasets\n",
    "DATA_DIR=WORK_DIR / 'data'\n",
    "\n",
    "# Noob printing to check if I did this shit right\n",
    "print(\"Notebook dir: \", NOTEBOOK_DIR)\n",
    "print(\"Repo dir: \", WORK_DIR)\n",
    "print(\"Data dir: \", DATA_DIR)"
   ]
  },
  {
   "cell_type": "markdown",
   "metadata": {},
   "source": [
    "### Loading csv into dataframes"
   ]
  },
  {
   "cell_type": "code",
   "execution_count": null,
   "metadata": {},
   "outputs": [],
   "source": [
    "import pandas as pd\n",
    "pd.plotting.register_matplotlib_converters()\n",
    "import matplotlib.pyplot as plt\n",
    "import seaborn as sns\n",
    "\n",
    "complete_data= pd.read_csv(DATA_DIR / 'nyra_2019_complete.csv', names=['track_id','race_date','race_number','program_number','trakus_index','latitude','longitude','distance_id','course_type','track_condition','run_up_distance','race_type','purse','post_time','weight_carried','jockey','odds','position_at_finish'])\n",
    "complete_data['race_date'].value_counts()\n",
    "mix_cd = complete_data.set_index(['track_id', 'race_date', 'race_number', 'program_number'])\n"
   ]
  },
  {
   "cell_type": "code",
   "execution_count": null,
   "metadata": {},
   "outputs": [],
   "source": [
    "race_result_df = complete_data.groupby(['track_id', 'race_date','race_number','jockey'])['race_type', 'track_condition','program_number','weight_carried','position_at_finish'].first()\n",
    "rcd=race_result_df.reset_index()\n",
    "rcd.head()"
   ]
  },
  {
   "cell_type": "markdown",
   "metadata": {},
   "source": [
    "## Load Race table df, and check race location distribution\n"
   ]
  },
  {
   "cell_type": "code",
   "execution_count": null,
   "metadata": {},
   "outputs": [],
   "source": [
    "race_data = pd.read_csv(DATA_DIR / 'nyra_race_table.csv')\n",
    "\n",
    "race_data['track_id'].value_counts().plot(kind='bar')"
   ]
  },
  {
   "cell_type": "markdown",
   "metadata": {},
   "source": []
  },
  {
   "cell_type": "markdown",
   "metadata": {},
   "source": [
    "## Managing data about races... Distance, Velocity and Acceleration"
   ]
  },
  {
   "cell_type": "markdown",
   "metadata": {},
   "source": [
    "### For now, let's check good jockeys for evaluation, i.e. Who are the best and the worst \"W/L\" in more races"
   ]
  },
  {
   "cell_type": "code",
   "execution_count": null,
   "metadata": {},
   "outputs": [],
   "source": [
    "# Let's check which is the best \"winner jockey\" to evaluate \n",
    "rcd[rcd['position_at_finish']==1].jockey.describe()"
   ]
  },
  {
   "cell_type": "code",
   "execution_count": null,
   "metadata": {},
   "outputs": [],
   "source": [
    "# Now let's check the same for best \"looser jockey\" case.\n",
    "# Since we don't have always the same amount of competitors,\n",
    "# let's check which is the most common quantity of positions\n",
    "\n",
    "rcd[rcd['position_at_finish']==6].jockey.describe()\n"
   ]
  },
  {
   "cell_type": "markdown",
   "metadata": {},
   "source": [
    "### Now that we know that 'Manuel Franco' and 'Dylan Davis' are respectively the \"most 1st\" and \"most sixth\", lets try to add distance, velocity and acceleration\n",
    "\n",
    "#### Considerations: Trackus index starts at 1."
   ]
  },
  {
   "cell_type": "code",
   "execution_count": null,
   "metadata": {},
   "outputs": [],
   "source": [
    "from math import radians, cos, sin, asin, sqrt\n",
    "\n",
    "# Let's def function to apply Haversine formulae\n",
    "# this snippet of code is extracted from https://www.geeksforgeeks.org/program-distance-two-points-earth/\n",
    "# by Aarti_Rathi\n",
    "def haversine_distance(row):\n",
    "    # Convert from degrees to radians.\n",
    "    lon1 = radians(row.longitude)\n",
    "    lon2 = radians(row.shift_longitude)\n",
    "    lat1 = radians(row.latitude)\n",
    "    lat2 = radians(row.shift_latitude)\n",
    "      \n",
    "    # Haversine formula\n",
    "    dlon = lon2 - lon1\n",
    "    dlat = lat2 - lat1\n",
    "    a = sin(dlat / 2)**2 + cos(lat1) * cos(lat2) * sin(dlon / 2)**2\n",
    " \n",
    "    c = 2 * asin(sqrt(a))\n",
    "    \n",
    "    # Radius of earth in kilometers. Use 3956 for miles\n",
    "    r = 6371\n",
    "      \n",
    "    # calculate the result\n",
    "    return(c * r)\n"
   ]
  },
  {
   "cell_type": "markdown",
   "metadata": {},
   "source": [
    "So, we now (at least i think) have the distance the horse have runned. now let's check how many readings were made by trakus for the run-up (58 feet in this example).\n",
    "We may want to replace iterrows with cumsum"
   ]
  },
  {
   "cell_type": "markdown",
   "metadata": {},
   "source": [
    "#### Now let's get some more interesting stats, like velocity and acceleration!"
   ]
  },
  {
   "cell_type": "code",
   "execution_count": null,
   "metadata": {},
   "outputs": [],
   "source": [
    "def velocity(row):\n",
    "    km_to_m=row.trakus_distance*1000\n",
    "    time=0.25\n",
    "    v_m_s = km_to_m / time\n",
    "    return v_m_s\n",
    "\n",
    "def acceleration(row):\n",
    "    delta_v = row.velocity - row.shift_velocity\n",
    "    time = 0.25\n",
    "    a_m_s2= delta_v / time\n",
    "    return a_m_s2\n"
   ]
  },
  {
   "cell_type": "markdown",
   "metadata": {},
   "source": [
    "### Let's find slower competitor"
   ]
  },
  {
   "cell_type": "code",
   "execution_count": null,
   "metadata": {},
   "outputs": [],
   "source": [
    "complete_data[(complete_data.track_id == \"AQU\")\n",
    "& (complete_data.race_date == \"2019-04-19\")\n",
    "& (complete_data.race_number == 7)\n",
    "& (complete_data.position_at_finish == 6)\n",
    "].jockey"
   ]
  },
  {
   "cell_type": "markdown",
   "metadata": {},
   "source": [
    "Now, to apply same result than previous guy, maybe do a function to make this isolated dataframes"
   ]
  },
  {
   "cell_type": "code",
   "execution_count": null,
   "metadata": {},
   "outputs": [],
   "source": [
    "def isolate_jockey_and_race(complete_data_df, jockey, track_id, race_date, race_number):\n",
    "    \n",
    "    # Reading race data into df\n",
    "    single_jockey_race=complete_data_df[(complete_data_df.jockey == jockey)\n",
    "    & (complete_data_df.track_id == track_id)\n",
    "    & (complete_data_df.race_date == race_date)\n",
    "    & (complete_data_df.race_number == race_number)\n",
    "    ]\n",
    "    \n",
    "    # Adding \"previuos coordinates\" to data frame with pandas shift func\n",
    "    single_jockey_race=single_jockey_race.sort_values(by='trakus_index')\n",
    "    r_shift = single_jockey_race.shift()\n",
    "    r_shift\n",
    "    single_jockey_race['shift_latitude']=r_shift['latitude'].fillna(0)\n",
    "    single_jockey_race['shift_longitude']=r_shift['longitude'].fillna(0)\n",
    "\n",
    "    # Add distance between current trakus read and previous one\n",
    "    single_jockey_race['trakus_distance']=single_jockey_race.apply(haversine_distance, axis='columns')\n",
    "    single_jockey_race['trakus_distance']=single_jockey_race.trakus_distance.map(lambda td: 0 if td>1 else td)\n",
    "    single_jockey_race['distance_covered']=single_jockey_race.trakus_distance.cumsum()\n",
    "\n",
    "    # Add Velocity and acceleration\n",
    "    single_jockey_race['velocity']=single_jockey_race.apply(velocity, axis='columns')\n",
    "    single_jockey_race_vshift=single_jockey_race.shift()\n",
    "    single_jockey_race['shift_velocity']=single_jockey_race_vshift['velocity'].fillna(0)\n",
    "    single_jockey_race['acceleration']=single_jockey_race.apply(acceleration, axis='columns')\n",
    "\n",
    "    # Print some stats\n",
    "    runup_kmd=0.0176784   \n",
    "    rand_d=0 # runup distance\n",
    "    tix=0 # trackus index post ranup distance\n",
    "    for index, row in single_jockey_race.iterrows():\n",
    "        rand_d=rand_d+row.trakus_distance\n",
    "        if rand_d > runup_kmd:\n",
    "            ntix=row.trakus_index\n",
    "            tix = row.trakus_index - 1\n",
    "            break\n",
    "    total_distance = single_jockey_race.trakus_distance.sum() * 1000 \n",
    "    runup_distance = rand_d * 1000\n",
    "    race_distance = (single_jockey_race.distance_id.unique()[0] / 100) * 201.168 # from furlongs to meters\n",
    "    excess_distance = total_distance - runup_distance - race_distance\n",
    "\n",
    "    print(f'''Race of {jockey}, in {track_id}, {race_date}, race number: {race_number}\n",
    "    Total distance ran: {total_distance} m\n",
    "    runup distance: {runup_distance} m\n",
    "    declared race distance: {race_distance} m\n",
    "    excess distance: {excess_distance} m\n",
    "    ''')\n",
    "\n",
    "    return single_jockey_race\n",
    "\n",
    "    "
   ]
  },
  {
   "cell_type": "code",
   "execution_count": null,
   "metadata": {},
   "outputs": [],
   "source": [
    "# results for Hector Rafael Diaz Jr.\n",
    "hector_rdj_df=isolate_jockey_and_race(complete_data_df=complete_data, jockey=\"Hector Rafael Diaz Jr.\", track_id=\"AQU\", race_date=\"2019-04-19\", race_number=7)\n"
   ]
  },
  {
   "cell_type": "code",
   "execution_count": null,
   "metadata": {},
   "outputs": [],
   "source": [
    "manuel_f_df=isolate_jockey_and_race(complete_data_df=complete_data, jockey=\"Manuel Franco\", track_id=\"AQU\", race_date=\"2019-04-19\", race_number=7)\n"
   ]
  },
  {
   "cell_type": "markdown",
   "metadata": {},
   "source": [
    "#### Let's do some visualization!"
   ]
  },
  {
   "cell_type": "code",
   "execution_count": null,
   "metadata": {},
   "outputs": [],
   "source": [
    "manuel_f_df.acceleration.describe()"
   ]
  },
  {
   "cell_type": "code",
   "execution_count": null,
   "metadata": {},
   "outputs": [],
   "source": [
    "hector_rdj_df.acceleration.describe()"
   ]
  },
  {
   "cell_type": "code",
   "execution_count": null,
   "metadata": {},
   "outputs": [],
   "source": [
    "\n",
    "sns.lineplot(x=\"distance_covered\", y=\"velocity\",\n",
    "data=manuel_f_df, label=\"velocity_manuel\")\n",
    "sns.lineplot(x=\"distance_covered\", y=\"velocity\", label=\"hector_velocity\",\n",
    "data=hector_rdj_df)\n",
    "sns.lineplot(x=\"distance_covered\", y=\"acceleration\", label=\"acc_manuel\",\n",
    "data=manuel_f_df)\n",
    "sns.lineplot(x=\"distance_covered\", y=\"acceleration\", label=\"acc_hector\",\n",
    "data=hector_rdj_df)\n",
    "plt.legend()"
   ]
  }
 ],
 "metadata": {
  "kernelspec": {
   "display_name": "Python 3.10.6 64-bit (windows store)",
   "language": "python",
   "name": "python3"
  },
  "language_info": {
   "codemirror_mode": {
    "name": "ipython",
    "version": 3
   },
   "file_extension": ".py",
   "mimetype": "text/x-python",
   "name": "python",
   "nbconvert_exporter": "python",
   "pygments_lexer": "ipython3",
   "version": "3.10.7"
  },
  "orig_nbformat": 4,
  "vscode": {
   "interpreter": {
    "hash": "e9265a22922cf29a7916131f3def5e811c3f0863f796f834e6c61767dd663e75"
   }
  }
 },
 "nbformat": 4,
 "nbformat_minor": 2
}
